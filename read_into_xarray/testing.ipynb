{
 "cells": [
  {
   "cell_type": "code",
   "execution_count": 1,
   "metadata": {},
   "outputs": [],
   "source": [
    "from concurrent.futures import ThreadPoolExecutor, as_completed"
   ]
  },
  {
   "cell_type": "code",
   "execution_count": null,
   "metadata": {},
   "outputs": [],
   "source": [
    "with ThreadPoolExecutor(max_workers=10) as executor:\n",
    "        futures = [\n",
    "            executor.submit(retrieve, client, request.copy(), date) for date in DATES\n",
    "        ]\n",
    "        for f in as_completed(futures):\n",
    "            try:\n",
    "                print(f.result())\n",
    "            except:\n",
    "                print(\"could not retrieve\")"
   ]
  },
  {
   "cell_type": "code",
   "execution_count": 46,
   "metadata": {},
   "outputs": [],
   "source": [
    "import numpy as np\n",
    "from datetime import datetime"
   ]
  },
  {
   "cell_type": "code",
   "execution_count": 52,
   "metadata": {},
   "outputs": [],
   "source": [
    "import pandas as pd"
   ]
  },
  {
   "cell_type": "code",
   "execution_count": 58,
   "metadata": {},
   "outputs": [
    {
     "data": {
      "text/plain": [
       "Timestamp('2001-01-01 00:00:00')"
      ]
     },
     "execution_count": 58,
     "metadata": {},
     "output_type": "execute_result"
    }
   ],
   "source": [
    "pd.to_datetime('2001-01-01')"
   ]
  },
  {
   "cell_type": "code",
   "execution_count": 49,
   "metadata": {},
   "outputs": [],
   "source": [
    "executer = ThreadPoolExecutor(max_workers=8)"
   ]
  },
  {
   "cell_type": "code",
   "execution_count": 50,
   "metadata": {},
   "outputs": [
    {
     "name": "stdout",
     "output_type": "stream",
     "text": [
      "0.5000468619034717 -- 2023-02-06 23:01:26.557012\n",
      "0.4999993910621658 -- 2023-02-06 23:01:26.558012\n",
      "0.4999791634091358 -- 2023-02-06 23:01:26.558012\n",
      "0.5000709779321063 -- 2023-02-06 23:01:26.558012\n",
      "0.5000177987353763 -- 2023-02-06 23:01:26.558012\n",
      "0.49997436850748916 -- 2023-02-06 23:01:26.558012\n",
      "0.49997228635844154 -- 2023-02-06 23:01:26.558012\n",
      "0.5000079418225598 -- 2023-02-06 23:01:26.558012\n",
      "0.5000004192951776 -- 2023-02-06 23:01:26.558012\n",
      "0.5000037636331556 -- 2023-02-06 23:01:26.558012\n"
     ]
    }
   ],
   "source": [
    "# as_completed is an iterator\n",
    "for f in as_completed(futures):\n",
    "    print(f'{f.result()} -- {datetime.now()}')"
   ]
  },
  {
   "cell_type": "code",
   "execution_count": 51,
   "metadata": {},
   "outputs": [
    {
     "data": {
      "text/plain": [
       "0.5000037636331556"
      ]
     },
     "execution_count": 51,
     "metadata": {},
     "output_type": "execute_result"
    }
   ],
   "source": [
    "f.result()"
   ]
  },
  {
   "cell_type": "code",
   "execution_count": null,
   "metadata": {},
   "outputs": [],
   "source": []
  }
 ],
 "metadata": {
  "kernelspec": {
   "display_name": "fcpgtools_base",
   "language": "python",
   "name": "python3"
  },
  "language_info": {
   "codemirror_mode": {
    "name": "ipython",
    "version": 3
   },
   "file_extension": ".py",
   "mimetype": "text/x-python",
   "name": "python",
   "nbconvert_exporter": "python",
   "pygments_lexer": "ipython3",
   "version": "3.9.15"
  },
  "orig_nbformat": 4,
  "vscode": {
   "interpreter": {
    "hash": "b2df1350c5e8a69388524555059e1d16f778c5a2d4a3782f1318752294ac923d"
   }
  }
 },
 "nbformat": 4,
 "nbformat_minor": 2
}
