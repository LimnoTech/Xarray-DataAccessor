{
 "cells": [
  {
   "cell_type": "code",
   "execution_count": 1,
   "metadata": {},
   "outputs": [],
   "source": [
    "from pathlib import Path\n",
    "import pandas as pd\n",
    "import numpy as np"
   ]
  },
  {
   "cell_type": "code",
   "execution_count": 2,
   "metadata": {},
   "outputs": [],
   "source": [
    "BRAZIL_DIR = Path.cwd() / 'brazil_data'"
   ]
  },
  {
   "cell_type": "code",
   "execution_count": 3,
   "metadata": {},
   "outputs": [],
   "source": [
    "COORDS = [(-5.141658, -40.916180)]"
   ]
  },
  {
   "cell_type": "code",
   "execution_count": 4,
   "metadata": {},
   "outputs": [],
   "source": [
    "year_dfs = []\n",
    "for year in range(2017, 2023):\n",
    "    year_dfs.append(\n",
    "        pd.read_parquet(BRAZIL_DIR / f'{year}_convective_precipitation.parquet')\n",
    "    )"
   ]
  },
  {
   "cell_type": "code",
   "execution_count": 5,
   "metadata": {},
   "outputs": [],
   "source": [
    "data_df = pd.concat(year_dfs, axis=0)\n",
    "del year_dfs"
   ]
  },
  {
   "cell_type": "code",
   "execution_count": 6,
   "metadata": {},
   "outputs": [
    {
     "data": {
      "text/html": [
       "<div>\n",
       "<style scoped>\n",
       "    .dataframe tbody tr th:only-of-type {\n",
       "        vertical-align: middle;\n",
       "    }\n",
       "\n",
       "    .dataframe tbody tr th {\n",
       "        vertical-align: top;\n",
       "    }\n",
       "\n",
       "    .dataframe thead th {\n",
       "        text-align: right;\n",
       "    }\n",
       "</style>\n",
       "<table border=\"1\" class=\"dataframe\">\n",
       "  <thead>\n",
       "    <tr style=\"text-align: right;\">\n",
       "      <th></th>\n",
       "      <th>1</th>\n",
       "    </tr>\n",
       "    <tr>\n",
       "      <th>datetime</th>\n",
       "      <th></th>\n",
       "    </tr>\n",
       "  </thead>\n",
       "  <tbody>\n",
       "    <tr>\n",
       "      <th>2017-01-01 00:00:00</th>\n",
       "      <td>0.000000</td>\n",
       "    </tr>\n",
       "    <tr>\n",
       "      <th>2017-01-01 01:00:00</th>\n",
       "      <td>0.000000</td>\n",
       "    </tr>\n",
       "    <tr>\n",
       "      <th>2017-01-01 02:00:00</th>\n",
       "      <td>0.000000</td>\n",
       "    </tr>\n",
       "    <tr>\n",
       "      <th>2017-01-01 03:00:00</th>\n",
       "      <td>0.000000</td>\n",
       "    </tr>\n",
       "    <tr>\n",
       "      <th>2017-01-01 04:00:00</th>\n",
       "      <td>0.000000</td>\n",
       "    </tr>\n",
       "    <tr>\n",
       "      <th>...</th>\n",
       "      <td>...</td>\n",
       "    </tr>\n",
       "    <tr>\n",
       "      <th>2022-12-31 19:00:00</th>\n",
       "      <td>0.000008</td>\n",
       "    </tr>\n",
       "    <tr>\n",
       "      <th>2022-12-31 20:00:00</th>\n",
       "      <td>0.000005</td>\n",
       "    </tr>\n",
       "    <tr>\n",
       "      <th>2022-12-31 21:00:00</th>\n",
       "      <td>0.000002</td>\n",
       "    </tr>\n",
       "    <tr>\n",
       "      <th>2022-12-31 22:00:00</th>\n",
       "      <td>0.000000</td>\n",
       "    </tr>\n",
       "    <tr>\n",
       "      <th>2022-12-31 23:00:00</th>\n",
       "      <td>0.000000</td>\n",
       "    </tr>\n",
       "  </tbody>\n",
       "</table>\n",
       "<p>47400 rows × 1 columns</p>\n",
       "</div>"
      ],
      "text/plain": [
       "                            1\n",
       "datetime                     \n",
       "2017-01-01 00:00:00  0.000000\n",
       "2017-01-01 01:00:00  0.000000\n",
       "2017-01-01 02:00:00  0.000000\n",
       "2017-01-01 03:00:00  0.000000\n",
       "2017-01-01 04:00:00  0.000000\n",
       "...                       ...\n",
       "2022-12-31 19:00:00  0.000008\n",
       "2022-12-31 20:00:00  0.000005\n",
       "2022-12-31 21:00:00  0.000002\n",
       "2022-12-31 22:00:00  0.000000\n",
       "2022-12-31 23:00:00  0.000000\n",
       "\n",
       "[47400 rows x 1 columns]"
      ]
     },
     "execution_count": 6,
     "metadata": {},
     "output_type": "execute_result"
    }
   ],
   "source": [
    "data_df"
   ]
  },
  {
   "cell_type": "code",
   "execution_count": 10,
   "metadata": {},
   "outputs": [],
   "source": [
    "# group by day\n",
    "day_data_df = data_df.groupby(pd.Grouper(freq='D')).mean()"
   ]
  },
  {
   "cell_type": "code",
   "execution_count": 15,
   "metadata": {},
   "outputs": [],
   "source": [
    "# add lat lon\n",
    "day_data_df['lat'] = np.array(\n",
    "    [COORDS[0][0] for i in list(day_data_df.index)]\n",
    ")\n",
    "day_data_df['lon'] = np.array(\n",
    "    [COORDS[0][1] for i in list(day_data_df.index)]\n",
    ")"
   ]
  },
  {
   "cell_type": "code",
   "execution_count": 17,
   "metadata": {},
   "outputs": [
    {
     "data": {
      "text/html": [
       "<div>\n",
       "<style scoped>\n",
       "    .dataframe tbody tr th:only-of-type {\n",
       "        vertical-align: middle;\n",
       "    }\n",
       "\n",
       "    .dataframe tbody tr th {\n",
       "        vertical-align: top;\n",
       "    }\n",
       "\n",
       "    .dataframe thead th {\n",
       "        text-align: right;\n",
       "    }\n",
       "</style>\n",
       "<table border=\"1\" class=\"dataframe\">\n",
       "  <thead>\n",
       "    <tr style=\"text-align: right;\">\n",
       "      <th></th>\n",
       "      <th>convective_precipitation_meters</th>\n",
       "      <th>lat</th>\n",
       "      <th>lon</th>\n",
       "    </tr>\n",
       "    <tr>\n",
       "      <th>datetime</th>\n",
       "      <th></th>\n",
       "      <th></th>\n",
       "      <th></th>\n",
       "    </tr>\n",
       "  </thead>\n",
       "  <tbody>\n",
       "    <tr>\n",
       "      <th>2017-01-01</th>\n",
       "      <td>9.039526e-06</td>\n",
       "      <td>-5.141658</td>\n",
       "      <td>-40.91618</td>\n",
       "    </tr>\n",
       "    <tr>\n",
       "      <th>2017-01-02</th>\n",
       "      <td>1.662221e-05</td>\n",
       "      <td>-5.141658</td>\n",
       "      <td>-40.91618</td>\n",
       "    </tr>\n",
       "    <tr>\n",
       "      <th>2017-01-03</th>\n",
       "      <td>2.348056e-05</td>\n",
       "      <td>-5.141658</td>\n",
       "      <td>-40.91618</td>\n",
       "    </tr>\n",
       "    <tr>\n",
       "      <th>2017-01-04</th>\n",
       "      <td>1.970350e-05</td>\n",
       "      <td>-5.141658</td>\n",
       "      <td>-40.91618</td>\n",
       "    </tr>\n",
       "    <tr>\n",
       "      <th>2017-01-05</th>\n",
       "      <td>2.283793e-07</td>\n",
       "      <td>-5.141658</td>\n",
       "      <td>-40.91618</td>\n",
       "    </tr>\n",
       "    <tr>\n",
       "      <th>...</th>\n",
       "      <td>...</td>\n",
       "      <td>...</td>\n",
       "      <td>...</td>\n",
       "    </tr>\n",
       "    <tr>\n",
       "      <th>2022-12-27</th>\n",
       "      <td>2.669969e-05</td>\n",
       "      <td>-5.141658</td>\n",
       "      <td>-40.91618</td>\n",
       "    </tr>\n",
       "    <tr>\n",
       "      <th>2022-12-28</th>\n",
       "      <td>7.889757e-07</td>\n",
       "      <td>-5.141658</td>\n",
       "      <td>-40.91618</td>\n",
       "    </tr>\n",
       "    <tr>\n",
       "      <th>2022-12-29</th>\n",
       "      <td>4.030970e-05</td>\n",
       "      <td>-5.141658</td>\n",
       "      <td>-40.91618</td>\n",
       "    </tr>\n",
       "    <tr>\n",
       "      <th>2022-12-30</th>\n",
       "      <td>3.512870e-05</td>\n",
       "      <td>-5.141658</td>\n",
       "      <td>-40.91618</td>\n",
       "    </tr>\n",
       "    <tr>\n",
       "      <th>2022-12-31</th>\n",
       "      <td>1.105895e-05</td>\n",
       "      <td>-5.141658</td>\n",
       "      <td>-40.91618</td>\n",
       "    </tr>\n",
       "  </tbody>\n",
       "</table>\n",
       "<p>2191 rows × 3 columns</p>\n",
       "</div>"
      ],
      "text/plain": [
       "            convective_precipitation_meters       lat       lon\n",
       "datetime                                                       \n",
       "2017-01-01                     9.039526e-06 -5.141658 -40.91618\n",
       "2017-01-02                     1.662221e-05 -5.141658 -40.91618\n",
       "2017-01-03                     2.348056e-05 -5.141658 -40.91618\n",
       "2017-01-04                     1.970350e-05 -5.141658 -40.91618\n",
       "2017-01-05                     2.283793e-07 -5.141658 -40.91618\n",
       "...                                     ...       ...       ...\n",
       "2022-12-27                     2.669969e-05 -5.141658 -40.91618\n",
       "2022-12-28                     7.889757e-07 -5.141658 -40.91618\n",
       "2022-12-29                     4.030970e-05 -5.141658 -40.91618\n",
       "2022-12-30                     3.512870e-05 -5.141658 -40.91618\n",
       "2022-12-31                     1.105895e-05 -5.141658 -40.91618\n",
       "\n",
       "[2191 rows x 3 columns]"
      ]
     },
     "execution_count": 17,
     "metadata": {},
     "output_type": "execute_result"
    }
   ],
   "source": [
    "day_data_df = day_data_df.rename(columns={'1': 'convective_precipitation_meters'})\n",
    "day_data_df"
   ]
  },
  {
   "cell_type": "code",
   "execution_count": 20,
   "metadata": {},
   "outputs": [
    {
     "ename": "",
     "evalue": "",
     "output_type": "error",
     "traceback": [
      "\u001b[1;31mThe Kernel crashed while executing code in the the current cell or a previous cell. Please review the code in the cell(s) to identify a possible cause of the failure. Click <a href='https://aka.ms/vscodeJupyterKernelCrash'>here</a> for more info. View Jupyter <a href='command:jupyter.viewOutput'>log</a> for further details."
     ]
    }
   ],
   "source": [
    "# save to csv\n",
    "OUT_DIR = Path(\n",
    "    'M:\\Proposals\\Proposals_2022\\Small_Proposals\\Associacao_Caatinga_Brazil'\n",
    ")\n",
    "day_data_df.to_csv(OUT_DIR / 'brazil_precip_data_pull.csv')"
   ]
  },
  {
   "cell_type": "code",
   "execution_count": null,
   "metadata": {},
   "outputs": [],
   "source": []
  }
 ],
 "metadata": {
  "kernelspec": {
   "display_name": "era5_to_xarray",
   "language": "python",
   "name": "python3"
  },
  "language_info": {
   "codemirror_mode": {
    "name": "ipython",
    "version": 3
   },
   "file_extension": ".py",
   "mimetype": "text/x-python",
   "name": "python",
   "nbconvert_exporter": "python",
   "pygments_lexer": "ipython3",
   "version": "3.11.0"
  },
  "orig_nbformat": 4,
  "vscode": {
   "interpreter": {
    "hash": "e0d80410862304beb58e47d8f6de129deb046d897f43b6667c8c72010b2a4021"
   }
  }
 },
 "nbformat": 4,
 "nbformat_minor": 2
}
