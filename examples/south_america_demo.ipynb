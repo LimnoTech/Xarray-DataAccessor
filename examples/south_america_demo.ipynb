{
 "cells": [
  {
   "attachments": {},
   "cell_type": "markdown",
   "metadata": {},
   "source": [
    "`Xarray-DataAccessor` + `FCPGtools` Demo Notebook\n",
    "==================================================\n",
    "\n",
    "**Author:** [Xavier R Nogueira](https://github.com/xaviernogueira)\n",
    "\n",
    "**Notebook Steps:**\n",
    "1. Using the `xarray_data_accessor.DataAccessorFactory` library to search available datasets/variables.\n",
    "2. Identify [HydroBASINS](https://www.hydrosheds.org/products/hydrobasins) watershed boundaries for a point in South America using an [ArcGIS REST API endpoint](https://imapinvasives.natureserve.org/arcgis/rest/services/hydrobasins/MapServer/2).\n",
    "3. Read-in hourly ERA5 precipitation data from [Planet OS's AWS S3 bucket](https://github.com/planet-os/notebooks/blob/master/aws/era5-pds.md) for our South American basin of choice.\n",
    "4. Load in a USGS Flow Direction Raster (FDR) for our watershed that is stored locally in `/example_data`.\n",
    "5. Use `fcpgtools` to resample our precipitation data to match the resolution of the FDR.\n",
    "6. Use `fcpgtools` to calculate precipitation accumulation for all hourly time steps.\n",
    "\n",
    "All the while we will be creating interactive plots/maps using [`hvplot`](https://hvplot.holoviz.org/) and [`geoviews`](https://geoviews.org/).\n",
    "\n",
    "**Set Up:**\n",
    "1. Clone `Xarray-DataAccessor` locally.\n",
    "2. Create the conda environment using `environment.yml`.\n",
    "3. Add `xarray_data_accessor` (the package) to your conda environment using the `conda develop %PATH%/Xarray-DataAccessor/src` command.\n",
    "4. Attempt to pip install `fcpgtools`. If it works...great, you can skip step 5/6!\n",
    "5. If it fails (can be finicky for technical reasons), clone the [`FCPGtools`](https://github.com/usgs/water-fcpg-tools) repo and add the contents of `/src/` to your conda environment using the `conda develop %PATH%/FCPGtools/src` command.\n",
    "6. Install `pysheds` into your environment using pip or conda.\n"
   ]
  },
  {
   "cell_type": "code",
   "execution_count": null,
   "metadata": {
    "tags": []
   },
   "outputs": [],
   "source": [
    "# import dependencies\n",
    "import requests\n",
    "import geopandas\n",
    "import shapely\n",
    "import xarray as xr\n",
    "import numpy as np\n",
    "import hvplot.xarray\n",
    "import hvplot.pandas\n",
    "import cartopy.crs as ccrs\n",
    "from pathlib import Path\n",
    "import gc\n",
    "\n",
    "# import our library\n",
    "import xarray_data_accessor"
   ]
  },
  {
   "cell_type": "code",
   "execution_count": null,
   "metadata": {
    "tags": []
   },
   "outputs": [],
   "source": [
    "# env not liking fcpgtools - I cloned the repo and added it to my environment (also pip installed pysheds)\n",
    "import fcpgtools"
   ]
  },
  {
   "cell_type": "markdown",
   "metadata": {},
   "source": [
    "# 🗃️ Explore data availability 🗃️"
   ]
  },
  {
   "cell_type": "markdown",
   "metadata": {},
   "source": [
    "## First we see what datasets can be accessed by different 'data accessors\""
   ]
  },
  {
   "cell_type": "code",
   "execution_count": null,
   "metadata": {
    "tags": []
   },
   "outputs": [],
   "source": [
    "# lets start by seeing which DataAccessor objects are currently available\n",
    "xarray_data_accessor.DataAccessorFactory.data_accessor_names()"
   ]
  },
  {
   "cell_type": "code",
   "execution_count": null,
   "metadata": {
    "tags": []
   },
   "outputs": [],
   "source": [
    "# next lets see what datasets each can access\n",
    "xarray_data_accessor.DataAccessorFactory.supported_datasets()"
   ]
  },
  {
   "cell_type": "markdown",
   "metadata": {},
   "source": [
    "## Next we see which ERA5 hourly variables can be fetched with the `AWSDataAccessor`"
   ]
  },
  {
   "cell_type": "code",
   "execution_count": null,
   "metadata": {
    "tags": []
   },
   "outputs": [],
   "source": [
    "xarray_data_accessor.DataAccessorFactory.supported_variables(\n",
    "    data_accessor_name='AWSDataAccessor',\n",
    "    dataset_name='reanalysis-era5-single-levels',\n",
    ")"
   ]
  },
  {
   "attachments": {},
   "cell_type": "markdown",
   "metadata": {},
   "source": [
    "# 🌄 Define a watershed AOI 🌄\n",
    "\n",
    "Here we read in a HUC8 level watershed within South America using HydroBASINS polygons accessed via [ArcGIS REST endpoint](https://imapinvasives.natureserve.org/arcgis/rest/services/hydrobasins/MapServer/2)."
   ]
  },
  {
   "cell_type": "code",
   "execution_count": null,
   "metadata": {
    "tags": []
   },
   "outputs": [],
   "source": [
    "# select a lat/long in South America\n",
    "lat = 8.54166666666685\n",
    "lon = -77.31666666666663\n",
    "\n",
    "# get signs for the given lat/lon\n",
    "signs = {\n",
    "    'lat': '+',\n",
    "    'lon': '+',\n",
    "}\n",
    "if lat < 0:\n",
    "    signs['lat'] = '-'\n",
    "if lon < 0:\n",
    "    signs['lon'] = '-'"
   ]
  },
  {
   "cell_type": "code",
   "execution_count": null,
   "metadata": {
    "tags": []
   },
   "outputs": [],
   "source": [
    "prefix = 'https://imapinvasives.natureserve.org/arcgis/rest/services/hydrobasins/MapServer/2/query?where=&text=&objectIds=&time=&'\n",
    "point_url = f'geometry={signs[\"lon\"]}{abs(lon)}%2C{signs[\"lat\"]}{abs(lat)}&geometryType=esriGeometryPoint'\n",
    "suffix = '&inSR=4326&spatialRel=esriSpatialRelIntersects&relationParam=&outFields=&returnGeometry=true&returnTrueCurves=false&maxAllowableOffset=&geometryPrecision=&outSR=4326&having=&returnIdsOnly=false&returnCountOnly=false&orderByFields=&groupByFieldsForStatistics=&outStatistics=&returnZ=false&returnM=false&gdbVersion=&historicMoment=&returnDistinctValues=false&resultOffset=&resultRecordCount=&queryByDistance=&returnExtentOnly=false&datumTransformation=&parameterValues=&rangeValues=&quantizationParameters=&f=geojson'\n",
    "basin_url = prefix + point_url + suffix\n",
    "print(f'Raw GeoJSON here: {basin_url}')"
   ]
  },
  {
   "cell_type": "code",
   "execution_count": null,
   "metadata": {
    "tags": []
   },
   "outputs": [],
   "source": [
    "# get the basin and point as a geopandas dataframe\n",
    "our_basins = geopandas.read_file(basin_url)\n",
    "point_gdf = geopandas.GeoDataFrame({'geometry': [shapely.Point((lon, lat))]})"
   ]
  },
  {
   "cell_type": "code",
   "execution_count": null,
   "metadata": {
    "tags": []
   },
   "outputs": [],
   "source": [
    "# plot our basin(s) and point\n",
    "our_basins.hvplot(\n",
    "    crs=our_basins.crs.to_wkt(),\n",
    "    tiles='StamenTerrainRetina',\n",
    "    width=500,\n",
    "    height=500,\n",
    "    fill_color=None,\n",
    "    line_width=4,\n",
    "    line_color='blue',\n",
    ") * point_gdf.hvplot(\n",
    "    color='red',\n",
    "    crs=our_basins.crs.to_wkt(),\n",
    ")"
   ]
  },
  {
   "cell_type": "markdown",
   "metadata": {},
   "source": [
    "# 🛰️ Read-in ERA5 precipitation data from the Planet OS AWS cloud bucket 🛰️"
   ]
  },
  {
   "cell_type": "code",
   "execution_count": null,
   "metadata": {
    "tags": []
   },
   "outputs": [],
   "source": [
    "%%time\n",
    "xarray_data = xarray_data_accessor.get_xarray_dataset(\n",
    "    data_accessor_name='AWSDataAccessor',\n",
    "    dataset_name='reanalysis-era5-single-levels',\n",
    "    variables=[\n",
    "        'precipitation_amount_1hour_Accumulation',\n",
    "    ],\n",
    "    start_time='2022-09-28',\n",
    "    end_time='2022-10-5',\n",
    "    shapefile=our_basins,\n",
    ")"
   ]
  },
  {
   "cell_type": "code",
   "execution_count": null,
   "metadata": {
    "tags": []
   },
   "outputs": [],
   "source": [
    "xarray_data"
   ]
  },
  {
   "cell_type": "code",
   "execution_count": null,
   "metadata": {
    "tags": []
   },
   "outputs": [],
   "source": [
    "# plot a central point over time\n",
    "xarray_data['precipitation_amount_1hour_Accumulation'][:, 1, 1].hvplot(\n",
    "    x='time',\n",
    ")"
   ]
  },
  {
   "cell_type": "markdown",
   "metadata": {},
   "source": [
    "# 🧰 Prep `FCPGtools` Inputs 🧰"
   ]
  },
  {
   "cell_type": "markdown",
   "metadata": {},
   "source": [
    "## Read in our Flow Direction Raster (FDR)"
   ]
  },
  {
   "cell_type": "code",
   "execution_count": null,
   "metadata": {
    "tags": []
   },
   "outputs": [],
   "source": [
    "# find all tifs\n",
    "matching_tifs = []\n",
    "for file in Path(Path.cwd() / 'example_data').iterdir():\n",
    "    if file.suffix == '.tif':\n",
    "        fdr = fcpgtools.load_raster(file)\n",
    "        if (fdr.y.min().item() <= lat <= fdr.y.max().item()) and (fdr.x.min().item() <= lon <= fdr.x.max().item()):\n",
    "            matching_tifs.append(file)\n",
    "gc.collect()"
   ]
  },
  {
   "cell_type": "code",
   "execution_count": null,
   "metadata": {
    "tags": []
   },
   "outputs": [],
   "source": [
    "matching_tifs"
   ]
  },
  {
   "cell_type": "code",
   "execution_count": null,
   "metadata": {
    "tags": []
   },
   "outputs": [],
   "source": [
    "fdr = fcpgtools.load_raster(\n",
    "    matching_tifs[0],\n",
    ")\n",
    "fdr"
   ]
  },
  {
   "cell_type": "markdown",
   "metadata": {},
   "source": [
    "## Clip to our FDR to our basin AOI"
   ]
  },
  {
   "cell_type": "code",
   "execution_count": null,
   "metadata": {
    "tags": []
   },
   "outputs": [],
   "source": [
    "# clip to the bbox\n",
    "fdr = fcpgtools.clip(\n",
    "    fdr,\n",
    "    match_shapefile=our_basins,\n",
    ")\n",
    "# mask to only include values in our shapefile\n",
    "fdr = fcpgtools.spatial_mask(\n",
    "    fdr,\n",
    "    mask_shp=our_basins,\n",
    ")"
   ]
  },
  {
   "cell_type": "code",
   "execution_count": null,
   "metadata": {
    "tags": []
   },
   "outputs": [],
   "source": [
    "fdr"
   ]
  },
  {
   "cell_type": "code",
   "execution_count": null,
   "metadata": {
    "tags": []
   },
   "outputs": [],
   "source": [
    "fdr.where(fdr != 255, np.nan).hvplot(\n",
    "    crs=fdr.rio.crs.to_wkt(),\n",
    "    tiles='StamenTerrainRetina',\n",
    "    width=500,\n",
    "    height=500,\n",
    "    clim=(0, 250),\n",
    "    cmap='Category10',\n",
    ") * our_basins.hvplot(\n",
    "        crs=our_basins.crs.to_wkt(),\n",
    "        fill_color=None,\n",
    "        line_width=4,\n",
    "        line_color='black',\n",
    ") * point_gdf.hvplot(\n",
    "    color='red',\n",
    "    crs=our_basins.crs.to_wkt(),\n",
    ")"
   ]
  },
  {
   "cell_type": "markdown",
   "metadata": {},
   "source": [
    "## Align our ERA5 data with the prepped FDR"
   ]
  },
  {
   "cell_type": "code",
   "execution_count": null,
   "metadata": {
    "tags": []
   },
   "outputs": [],
   "source": [
    "aligned_era5 = fcpgtools.align_raster(\n",
    "    xarray_data['precipitation_amount_1hour_Accumulation'],\n",
    "    fdr,\n",
    "    resample_method='bilinear',\n",
    ")"
   ]
  },
  {
   "cell_type": "code",
   "execution_count": null,
   "metadata": {
    "tags": []
   },
   "outputs": [],
   "source": [
    "aligned_era5"
   ]
  },
  {
   "cell_type": "code",
   "execution_count": null,
   "metadata": {
    "tags": []
   },
   "outputs": [],
   "source": [
    "# plot our basin(s) and point\n",
    "aligned_era5.hvplot.image(\n",
    "    crs=aligned_era5.rio.crs.to_wkt(),\n",
    "    clim=(\n",
    "        aligned_era5.min().item() + 0.00001,\n",
    "        aligned_era5.max().item()\n",
    "    ),\n",
    "    cmap='PuBu',\n",
    "    cnorm='log',\n",
    "    width=600,\n",
    "    height=500,\n",
    "    widget_type='scrubber',\n",
    "    widget_location='bottom',\n",
    "    tiles='StamenTerrainRetina',\n",
    ")"
   ]
  },
  {
   "cell_type": "markdown",
   "metadata": {},
   "source": [
    "# 🌧️ Calculate flow accumulation over time 🌧️"
   ]
  },
  {
   "cell_type": "code",
   "execution_count": null,
   "metadata": {
    "tags": []
   },
   "outputs": [],
   "source": [
    "%%time\n",
    "gc.collect()\n",
    "flow_accum = fcpgtools.accumulate_parameter(\n",
    "    fdr,\n",
    "    aligned_era5,\n",
    "    engine='pysheds',\n",
    ")"
   ]
  },
  {
   "cell_type": "code",
   "execution_count": null,
   "metadata": {
    "tags": []
   },
   "outputs": [],
   "source": [
    "# sanity check that accumulation matches\n",
    "flow_accum[:, 100, 100].hvplot(\n",
    "    x='time',\n",
    ")"
   ]
  },
  {
   "cell_type": "code",
   "execution_count": null,
   "metadata": {
    "tags": []
   },
   "outputs": [],
   "source": [
    "# plot our basin(s) and point\n",
    "flow_accum.hvplot.image(\n",
    "    crs=flow_accum.rio.crs.to_wkt(),\n",
    "    clim=(\n",
    "        flow_accum.min().item() + 0.00001,\n",
    "        flow_accum.max().item()\n",
    "    ),\n",
    "    cmap='PuBu',\n",
    "    cnorm='log',\n",
    "    width=600,\n",
    "    height=500,\n",
    "    widget_type='scrubber',\n",
    "    widget_location='bottom',\n",
    "    tiles='StamenTerrainRetina',\n",
    ")"
   ]
  }
 ],
 "metadata": {
  "kernelspec": {
   "display_name": "Python 3 (ipykernel)",
   "language": "python",
   "name": "python3"
  },
  "language_info": {
   "codemirror_mode": {
    "name": "ipython",
    "version": 3
   },
   "file_extension": ".py",
   "mimetype": "text/x-python",
   "name": "python",
   "nbconvert_exporter": "python",
   "pygments_lexer": "ipython3",
   "version": "3.10.10"
  },
  "toc-autonumbering": true
 },
 "nbformat": 4,
 "nbformat_minor": 4
}
