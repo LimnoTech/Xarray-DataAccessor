{
 "cells": [
  {
   "cell_type": "code",
   "execution_count": 1,
   "metadata": {},
   "outputs": [],
   "source": [
    "from pathlib import Path\n",
    "import pandas as pd\n",
    "import numpy as np"
   ]
  },
  {
   "cell_type": "code",
   "execution_count": 2,
   "metadata": {},
   "outputs": [],
   "source": [
    "BRAZIL_DIR = Path.cwd() / 'brazil_data'"
   ]
  },
  {
   "cell_type": "code",
   "execution_count": 4,
   "metadata": {},
   "outputs": [],
   "source": [
    "COORDS = [(-5.141658, -40.916180)]"
   ]
  },
  {
   "cell_type": "code",
   "execution_count": null,
   "metadata": {},
   "outputs": [],
   "source": [
    "year_dfs = []\n",
    "for year in range(2017, 2023):\n",
    "    year_dfs.append(\n",
    "        pd.read_parquet(BRAZIL_DIR / f'{year}_convective_precipitation.parquet')\n",
    "    )"
   ]
  },
  {
   "cell_type": "code",
   "execution_count": null,
   "metadata": {},
   "outputs": [],
   "source": [
    "data_df = pd.concat(year_dfs, axis=0)\n",
    "del year_dfs"
   ]
  },
  {
   "cell_type": "code",
   "execution_count": null,
   "metadata": {},
   "outputs": [],
   "source": [
    "# group by day\n",
    "day_data_df = data_df.groupby(pd.Grouper(freq='D'))\n",
    "day_data_df['lat'] = np.array(\n",
    "    [COORDS[0] for i in day_data_df.index]\n",
    ")\n",
    "day_data_df['lon'] = np.array(\n",
    "    [COORDS[1] for i in day_data_df.index]\n",
    ")"
   ]
  },
  {
   "cell_type": "code",
   "execution_count": null,
   "metadata": {},
   "outputs": [],
   "source": [
    "# save to csv\n",
    "OUT_DIR = Path(\n",
    "    'M:\\Proposals\\Proposals_2022\\Small_Proposals\\Associacao_Caatinga_Brazil'\n",
    ")\n",
    "day_data_df.to_csv(OUT_DIR / 'brazil_precip_data_pull.csv')"
   ]
  }
 ],
 "metadata": {
  "kernelspec": {
   "display_name": "era5_to_xarray",
   "language": "python",
   "name": "python3"
  },
  "language_info": {
   "codemirror_mode": {
    "name": "ipython",
    "version": 3
   },
   "file_extension": ".py",
   "mimetype": "text/x-python",
   "name": "python",
   "nbconvert_exporter": "python",
   "pygments_lexer": "ipython3",
   "version": "3.11.0"
  },
  "orig_nbformat": 4,
  "vscode": {
   "interpreter": {
    "hash": "e0d80410862304beb58e47d8f6de129deb046d897f43b6667c8c72010b2a4021"
   }
  }
 },
 "nbformat": 4,
 "nbformat_minor": 2
}
